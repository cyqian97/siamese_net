{
 "cells": [
  {
   "cell_type": "code",
   "execution_count": null,
   "id": "5b9953d3",
   "metadata": {},
   "outputs": [
    {
     "name": "stdout",
     "output_type": "stream",
     "text": [
      "loop\n",
      "start training\n",
      "Epoch  1  training\n",
      "100%|███████████████████████████████████████████| 43/43 [00:16<00:00,  2.58it/s]\n",
      "Epoch  1  validating\n",
      "100%|██████████████████████████████████████| 1690/1690 [00:13<00:00, 127.29it/s]\n",
      "Epoch 1\t Train loss 0.07415731541253626\n",
      "+1/-1 ratrio:0.36/0.64\n",
      "+1 features max:1.42\t min:0.75\t mean:1.04\t median 1.04\n",
      "-1 features max:1.47\t min:0.79\t mean:1.07\t median 1.06\n",
      "j_star = 0\ttheta_star = 0.818252\tpolorization = 1\tEmpirical Error = 0.355621\n",
      "Validation loss: 0.0400\n",
      "Epoch  2  training\n",
      " 30%|█████████████                              | 13/43 [00:05<00:10,  2.73it/s]"
     ]
    }
   ],
   "source": [
    "!python train.py"
   ]
  },
  {
   "cell_type": "code",
   "execution_count": null,
   "id": "e57479d5",
   "metadata": {},
   "outputs": [],
   "source": []
  }
 ],
 "metadata": {
  "kernelspec": {
   "display_name": "Python [conda env:root] *",
   "language": "python",
   "name": "conda-root-py"
  },
  "language_info": {
   "codemirror_mode": {
    "name": "ipython",
    "version": 3
   },
   "file_extension": ".py",
   "mimetype": "text/x-python",
   "name": "python",
   "nbconvert_exporter": "python",
   "pygments_lexer": "ipython3",
   "version": "3.7.12"
  }
 },
 "nbformat": 4,
 "nbformat_minor": 5
}
