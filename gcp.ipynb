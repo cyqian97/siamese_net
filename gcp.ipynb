{
 "cells": [
  {
   "cell_type": "code",
   "execution_count": 36,
   "id": "5b9953d3",
   "metadata": {},
   "outputs": [
    {
     "name": "stdout",
     "output_type": "stream",
     "text": [
      "loop\n",
      "start training\n",
      "Epoch  1  training\n",
      " 52%|█████████████████████▍                   | 177/339 [01:11<01:04,  2.52it/s]^C\n",
      " 52%|█████████████████████▍                   | 177/339 [01:11<01:05,  2.47it/s]\n",
      "Traceback (most recent call last):\n",
      "  File \"train.py\", line 89, in <module>\n",
      "    run()\n",
      "  File \"train.py\", line 65, in run\n",
      "    model = training(train_dataloader,valid_dataloader,optimizer,net,criterion)\n",
      "  File \"/home/razielis05_gmail_com/models/siamese_net/model.py\", line 82, in training\n",
      "    img0, img1, label = img0.cuda(), img1.cuda(), label.cuda()\n",
      "KeyboardInterrupt\n"
     ]
    }
   ],
   "source": [
    "!python train.py"
   ]
  },
  {
   "cell_type": "code",
   "execution_count": null,
   "id": "e57479d5",
   "metadata": {},
   "outputs": [],
   "source": []
  }
 ],
 "metadata": {
  "kernelspec": {
   "display_name": "Python [conda env:root] *",
   "language": "python",
   "name": "conda-root-py"
  },
  "language_info": {
   "codemirror_mode": {
    "name": "ipython",
    "version": 3
   },
   "file_extension": ".py",
   "mimetype": "text/x-python",
   "name": "python",
   "nbconvert_exporter": "python",
   "pygments_lexer": "ipython3",
   "version": "3.7.12"
  }
 },
 "nbformat": 4,
 "nbformat_minor": 5
}
