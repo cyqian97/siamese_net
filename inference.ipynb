{
 "cells": [
  {
   "cell_type": "code",
   "execution_count": 1,
   "id": "3181a63f",
   "metadata": {},
   "outputs": [],
   "source": [
    "import torch\n",
    "import numpy as np\n",
    "from tqdm import tqdm\n",
    "from os.path import join\n",
    "import matplotlib.pyplot as plt\n",
    "from torch.nn.functional import pairwise_distance\n",
    "from torch.utils.data import DataLoader, Dataset,random_split\n",
    "\n",
    "import config_gcp as config\n",
    "from model import SiameseNetwork,training\n",
    "from utils import imshow, show_plot, load_dataset,decision_stub\n",
    "\n",
    "\n",
    "training_dir = config.training_dir\n",
    "testing_dir = config.testing_dir\n",
    "training_csv = config.training_csv\n",
    "testing_csv = config.testing_csv"
   ]
  },
  {
   "cell_type": "code",
   "execution_count": null,
   "id": "c5c46700",
   "metadata": {},
   "outputs": [],
   "source": [
    "# Load the dataset\n",
    "siamese_dataset = load_dataset(training_dir,training_csv)\n",
    "\n",
    "# Load the weight to the network\n",
    "net = SiameseNetwork().cuda()\n",
    "state_dict = \"AdamW  Parameter Group 0 amsgrad-False betas-0.9, 0.999 eps-1e-08 lr-0.0001 weight_decay-0.0005  batch_size-32validation_error0.36272189349112427.pth\"\n",
    "#\"AdamW  Parameter Group 0 amsgrad-False betas-0.9, 0.999 eps-1e-08 lr-1e-05 weight_decay-0.0005  batch_size-32validation_error0.4443007972419737.pth\"\n",
    "net.load_state_dict(torch.load(join(\"state_dict\",state_dict)))\n",
    "net.eval()\n",
    "\n",
    "device = torch.device(\"cuda\" if torch.cuda.is_available() else \"cpu\")"
   ]
  },
  {
   "cell_type": "code",
   "execution_count": 5,
   "id": "9243d262",
   "metadata": {},
   "outputs": [],
   "source": [
    "# Create test dataloader\n",
    "num_test = 5000 # select number of samples to be inferenced\n",
    "num_other = siamese_dataset.__len__()-num_test\n",
    "siamese_test, _ = random_split(siamese_dataset, [num_test,num_other])\n",
    "\n",
    "test_dataloader = DataLoader(\n",
    "    siamese_test, shuffle=True, num_workers=8, batch_size=1\n",
    ")"
   ]
  },
  {
   "cell_type": "code",
   "execution_count": 6,
   "id": "4490aa71",
   "metadata": {},
   "outputs": [
    {
     "name": "stderr",
     "output_type": "stream",
     "text": [
      "100%|██████████████████████████████████████| 5000/5000 [00:37<00:00, 133.39it/s]"
     ]
    },
    {
     "name": "stdout",
     "output_type": "stream",
     "text": [
      "j_star = 0\n",
      "theta_star = 0.002477\n",
      "polorization = -1\n",
      "Empirical Error = 0.220000\n",
      "\n"
     ]
    },
    {
     "name": "stderr",
     "output_type": "stream",
     "text": [
      "\n"
     ]
    },
    {
     "data": {
      "text/plain": [
       "0.22"
      ]
     },
     "execution_count": 6,
     "metadata": {},
     "output_type": "execute_result"
    }
   ],
   "source": [
    "# Evaluate the Eucledean distance between each pair\n",
    "test_distance = np.zeros((test_dataloader.__len__(),2))\n",
    "for i, data in enumerate(tqdm(test_dataloader), 0):\n",
    "    x0, x1, label = data\n",
    "    output1, output2 = net(x0.to(device), x1.to(device))\n",
    "    eucledian_distance = pairwise_distance(output1, output2)\n",
    "    test_distance[i,0] = eucledian_distance.detach().cpu().numpy()\n",
    "    test_distance[i,1] = label.detach().cpu().numpy()*2-1\n",
    "decision_stub(test_distance.tolist(),verbose=True)"
   ]
  }
 ],
 "metadata": {
  "kernelspec": {
   "display_name": "Python 3",
   "language": "python",
   "name": "python3"
  },
  "language_info": {
   "codemirror_mode": {
    "name": "ipython",
    "version": 3
   },
   "file_extension": ".py",
   "mimetype": "text/x-python",
   "name": "python",
   "nbconvert_exporter": "python",
   "pygments_lexer": "ipython3",
   "version": "3.7.12"
  }
 },
 "nbformat": 4,
 "nbformat_minor": 5
}
